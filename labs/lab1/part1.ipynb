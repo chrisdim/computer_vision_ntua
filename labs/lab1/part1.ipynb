{
 "cells": [
  {
   "cell_type": "markdown",
   "metadata": {},
   "source": [
    "# Computer Vision - Semester 8, Spring 2021\n",
    "\n",
    "## Laboratory Project 1: Points of interest detection & feature extraction in images\n",
    "    Christos Dimopoulos (031 17 037)\n",
    "    Dimitris Dimos (031 17 165)"
   ]
  },
  {
   "cell_type": "markdown",
   "metadata": {},
   "source": [
    "## Part 1: Edge detection in grayscale images"
   ]
  },
  {
   "cell_type": "code",
   "execution_count": null,
   "metadata": {},
   "outputs": [],
   "source": [
    "# imports\n",
    "import numpy as np\n",
    "import cv2\n",
    "import matplotlib.pyplot as plt\n",
    "import math\n",
    "from matplotlib import rcParams\n",
    "from matplotlib import cm\n",
    "from mpl_toolkits.mplot3d import Axes3D\n"
   ]
  },
  {
   "cell_type": "code",
   "execution_count": null,
   "metadata": {},
   "outputs": [],
   "source": [
    "# just to center image depiction \n",
    "from IPython.core.display import HTML\n",
    "HTML(\"\"\"\n",
    "<style>\n",
    ".output_png {\n",
    "    display: table-cell;\n",
    "    text-align: center;\n",
    "    vertical-align: middle;\n",
    "}\n",
    "</style>\n",
    "\"\"\")"
   ]
  },
  {
   "cell_type": "code",
   "execution_count": null,
   "metadata": {},
   "outputs": [],
   "source": [
    "## 1.1 Input images creation\n",
    "\n",
    "# 1.1.1\n",
    "Io_source = 'cv21_lab1_part1&2_material/edgetest_10.png'\n",
    "Io = np.array(cv2.imread(Io_source, 0))\n",
    "Io = Io.astype(np.float)/Io.max()   # normalize to [0, 1]\n",
    "rcParams['figure.figsize'] = 4,4\n",
    "plt.imshow(Io, cmap=\"gray\")\n",
    "\n",
    "#cv2.imshow('gray image', Io)\n",
    "#cv2.waitKey(5000)\n",
    "#cv2.destroyAllWindows()\n",
    "#cv2.waitKey(1)"
   ]
  },
  {
   "cell_type": "markdown",
   "metadata": {},
   "source": [
    "For the algorithms that follow, we will need our input images to be corrupted by **_White Gaussian Noise_** of zero mean and standard deviation $\\sigma_{n}$ that depends on the desired PSNR.\n",
    "\n",
    "By definition: $PSNR = 20\\textrm{log}_{10} \\bigg(\\frac{I_{max} - I_{min}}{\\sigma_n}\\bigg) \\,\\,\\,\\, (dB)$,\n",
    "where\n",
    "$I_{max} = \\underset{x,y}{\\textrm{max}}I(x,y)$ and $I_{min} = \\underset{x,y}{\\textrm{min}}I(x,y)$\n",
    "\n",
    "Therefore, $$ \\sigma_{n} = (I_{max} - I_{min}) \\cdot 10^{-\\frac{PSNR}{20}} $$"
   ]
  },
  {
   "cell_type": "code",
   "execution_count": null,
   "metadata": {},
   "outputs": [],
   "source": [
    "# 1.1.2\n",
    "def find_sigma (PSNR: int, I: np.ndarray) -> float:\n",
    "    Imax = np.amax(I)\n",
    "    Imin = np.amin(I)\n",
    "    sigma = (Imax - Imin) * 10**(-PSNR/20)\n",
    "    return sigma\n",
    "\n",
    "n_20 = np.random.normal(loc=0.0, scale=find_sigma(20, Io), size=Io.shape)\n",
    "n_10 = np.random.normal(loc=0.0, scale=find_sigma(10, Io), size=Io.shape)\n",
    "\n",
    "I_20 = Io + n_20\n",
    "I_10 = Io + n_10\n",
    "\n",
    "rcParams['figure.figsize'] = 9,9\n",
    "fig, ax = plt.subplots(1,2)\n",
    "ax[0].imshow(I_20, cmap=\"gray\")\n",
    "ax[1].imshow(I_10, cmap=\"gray\")"
   ]
  },
  {
   "cell_type": "markdown",
   "metadata": {},
   "source": [
    "The left image has been corrupted by noise with a PSNR of 20 dB and the right with a PSNR of 10 dB. It can easily be seen that the higher the PSNR, the higher the image clarity.  "
   ]
  },
  {
   "cell_type": "code",
   "execution_count": null,
   "metadata": {},
   "outputs": [],
   "source": [
    "# auxiliary function to visualize convolution kernels in 3D\n",
    "def plot3D_kernels (toPlot1: np.ndarray, toPlot2: np.ndarray) -> None:\n",
    "    dim = toPlot1.shape[0]\n",
    "    x = np.linspace(-(dim-1)/2, (dim-1)/2, dim)\n",
    "    y = np.linspace(-(dim-1)/2, (dim-1)/2, dim)\n",
    "    X, Y = np.meshgrid(x, y)\n",
    "    \n",
    "    fig = plt.figure(figsize=(25,10))\n",
    "    \n",
    "    ax = fig.add_subplot(1, 2, 1, projection='3d')\n",
    "    ax.xaxis.set_pane_color((1.0, 1.0, 1.0, 0.0))\n",
    "    ax.yaxis.set_pane_color((1.0, 1.0, 1.0, 0.0))\n",
    "    ax.zaxis.set_pane_color((1.0, 1.0, 1.0, 0.0))\n",
    "    ax.set_xticklabels([])\n",
    "    ax.set_yticklabels([])\n",
    "    ax.set_zticklabels([])\n",
    "    \n",
    "    Z1 = np.array(toPlot1)\n",
    "    ax.plot_wireframe(X, Y, Z1, color='black')#)cmap=cm.PuOr)\n",
    "    plt.title('Gaussian Kernel', y = -0.01)\n",
    "    \n",
    "    ax = fig.add_subplot(1, 2, 2, projection='3d')\n",
    "    ax.xaxis.set_pane_color((1.0, 1.0, 1.0, 0.0))\n",
    "    ax.yaxis.set_pane_color((1.0, 1.0, 1.0, 0.0))\n",
    "    ax.zaxis.set_pane_color((1.0, 1.0, 1.0, 0.0))\n",
    "    ax.set_xticklabels([])\n",
    "    ax.set_yticklabels([])\n",
    "    ax.set_zticklabels([])\n",
    "    \n",
    "    Z2 = np.array(toPlot2)\n",
    "    ax.plot_wireframe(X, Y, Z2, color='black')#)cmap=cm.PuOr)\n",
    "    plt.title('Laplacian-of-Gaussian Kernel', y = -0.01)\n",
    "    \n",
    "    plt.show()"
   ]
  },
  {
   "cell_type": "markdown",
   "metadata": {},
   "source": [
    "At this point, we will create the kernels of two linear filters:\n",
    "\n",
    "$1.$&emsp; 2D Gaussian, using the openCV library: $ G_{\\sigma}(x,y) = \\frac{1}{2 \\pi \\sigma^2} e^{-\\frac{x^2+y^2}{2\\sigma^2}}$\n",
    "\n",
    "$2.$&emsp; Laplacian of Gaussian (LoG), which we create manually: $ h(x,y) =  \\nabla^2G_{\\sigma}(x,y) $\n",
    "\n",
    "To make it more clear, we will exploit the **separability** of the gaussian function and its derivatives to synthesize LoG.\n",
    "\n",
    "&emsp;&emsp;$(a)$&emsp; We separate $G_{\\sigma}(x,y)$ into 1D functions: \n",
    "$$\n",
    " G_{\\sigma}(x,y) = \\frac{1}{2 \\pi \\sigma^2} e^{-\\frac{x^2+y^2}{2\\sigma^2}} =\n",
    "\\frac{1}{2 \\pi \\sigma^2} \\cdot\n",
    "\\underbrace{e^{-\\frac{x^2}{2\\sigma^2}}}_{G_{\\sigma} (x)} \\cdot\n",
    "\\underbrace{e^{-\\frac{y^2}{2\\sigma^2}}}_{G_{\\sigma} (y)}\n",
    "$$\n",
    "\n",
    "&emsp;&emsp;$(b)$&emsp; The laplacian of $G_{\\sigma}(x,y)$ is:\n",
    "$$\n",
    "\\nabla^2G_{\\sigma}(x,y) =\n",
    "\\frac{\\partial^2 G_{\\sigma}(x,y)}{\\partial x^2} +\n",
    "\\frac{\\partial^2 G_{\\sigma}(x,y)}{\\partial y^2} =\n",
    "\\frac{1}{2 \\pi \\sigma^2} \\cdot\n",
    "\\bigg[\n",
    "\\frac{\\partial^2 G_{\\sigma}(x)}{\\partial x^2}\\cdot G_{\\sigma}(y) +\n",
    "\\frac{\\partial^2 G_{\\sigma}(y)}{\\partial y^2}\\cdot G_{\\sigma}(x)\n",
    "\\bigg]  \\Longrightarrow \\\\[1cm]\n",
    "\\nabla^2 G_{\\sigma}(x,y) = \n",
    "\\frac{1}{2 \\pi \\sigma^2} \\cdot\n",
    "\\bigg[\n",
    "\\frac{x^2 - \\sigma^2}{\\sigma^4} e^{-\\frac{x^2}{2\\sigma^2}} \\cdot G_{\\sigma}(y) +\n",
    "\\frac{y^2 - \\sigma^2}{\\sigma^4} e^{-\\frac{y^2}{2\\sigma^2}} \\cdot G_{\\sigma}(x)\n",
    "\\bigg] \\Longrightarrow \\\\[1cm]\n",
    "h(x,y) =\n",
    "\\frac{1}{2 \\pi \\sigma^2}\n",
    "\\bigg[\n",
    "\\underbrace{\\frac{x^2 - \\sigma^2}{\\sigma^4} e^{-\\frac{x^2}{2\\sigma^2}}}_{newX} \\cdot G_{\\sigma}(y) +\n",
    "\\underbrace{\\frac{y^2 - \\sigma^2}{\\sigma^4} e^{-\\frac{y^2}{2\\sigma^2}}}_{newY} \\cdot G_{\\sigma}(x)\n",
    "\\bigg]\n",
    "$$"
   ]
  },
  {
   "cell_type": "code",
   "execution_count": null,
   "metadata": {},
   "outputs": [],
   "source": [
    "## 1.2 Edge detection algorithms implementation\n",
    "\n",
    "# 1.2.1\n",
    "\"\"\" Produces 2D Gaussian filter response & its Laplacian (same spatial scale) \"\"\"\n",
    "def G_and_LoG (sigma: float) -> (np.ndarray,np.ndarray):\n",
    "    kernelSize = int (np.ceil(3 * sigma)*2 + 1)\n",
    "    \n",
    "    # 2D Gaussian: G(x,y) - openCV library\n",
    "    G = cv2.getGaussianKernel(kernelSize, sigma)\n",
    "    G = G @ G.transpose()\n",
    "    #normalize = sum(map(sum, G))\n",
    "    #G = G/normalize \n",
    "    \n",
    "    # Laplacian of Gaussian: (LoG) h(x,y) - manual construction\n",
    "    coeff = 1/(2*np.pi*sigma**2)\n",
    "    x = np.linspace(-(kernelSize-1)/2, (kernelSize-1)/2, kernelSize)\n",
    "    y = np.linspace(-(kernelSize-1)/2, (kernelSize-1)/2, kernelSize)\n",
    "\n",
    "    Gx = np.exp(-np.square(x)/(2*sigma**2))\n",
    "    Gy = np.exp(-np.square(y)/(2*sigma**2))\n",
    "    newX = (np.square(x)-sigma**2)/(sigma**4) * Gx\n",
    "    newY = (np.square(y)-sigma**2)/(sigma**4) * Gy\n",
    "\n",
    "    gridX, gridY       = np.meshgrid(Gx, Gy)\n",
    "    gridNewX, gridNewY = np.meshgrid(newX, newY)\n",
    "    \n",
    "    LoG = coeff * ((gridY*gridNewX) + (gridX*gridNewY))\n",
    "    \n",
    "    return (G, LoG)"
   ]
  },
  {
   "cell_type": "code",
   "execution_count": null,
   "metadata": {},
   "outputs": [],
   "source": [
    "# plotting an example of Gauss and LoG kernels with sigma = 100\n",
    "Gauss, LoG = G_and_LoG(sigma=50)\n",
    "plot3D_kernels(Gauss, LoG)"
   ]
  },
  {
   "cell_type": "markdown",
   "metadata": {},
   "source": [
    "On the left side, we depict the 3D representation of a **Gaussian smoothing** (blurring) filter response and, on the right side, a **LoG** filter response.\n",
    "***\n",
    "At next, in order to approximate the **Laplacian of the smoothed image** we will use 2 techniques\n",
    "\n",
    "&emsp;&emsp;$(i)$&emsp; linear convolution of the image with $h(x,y)$:\n",
    "$L_1 = \\nabla^2(G_{\\sigma}*I) = (\\nabla^2 G_{\\sigma})*I = h*I $\n",
    "\n",
    "&emsp;&emsp;$(ii)$&emsp; non-linear approximation using morphological filters:\n",
    "$L_2 = I_{\\sigma} \\oplus B + I_{\\sigma} \\ominus B - 2 I_{\\sigma} $"
   ]
  },
  {
   "cell_type": "code",
   "execution_count": null,
   "metadata": {},
   "outputs": [],
   "source": [
    "# 1.2.2\n",
    "def linearFilter (image: np.ndarray, kernel: np.ndarray) -> np.ndarray:\n",
    "    output = cv2.filter2D(image, -1, kernel) # ddepth = -1 will produce output of the same depth as input\n",
    "    return output"
   ]
  },
  {
   "cell_type": "code",
   "execution_count": null,
   "metadata": {},
   "outputs": [],
   "source": [
    "# instance of linear filtering: for sigma = 1.2 and both PSNRs\n",
    "sigma = 1.2\n",
    "G, LoG = G_and_LoG(sigma)\n",
    "\n",
    "Ismooth_20 = linearFilter(I_20, G)\n",
    "L1_20 = linearFilter(I_20, LoG)\n",
    "\n",
    "Ismooth_10 = linearFilter(I_10, G)\n",
    "L1_10 = linearFilter(I_10, LoG)\n",
    "\n",
    "rcParams['figure.figsize'] = 16,10\n",
    "fig, ax = plt.subplots(2,3)\n",
    "\n",
    "ax[0][0].imshow(I_20, cmap=\"gray\")\n",
    "ax[0][1].imshow(Ismooth_20, cmap=\"gray\")\n",
    "ax[0][2].imshow(L1_20, cmap=\"gray\")\n",
    "\n",
    "ax[1][0].imshow(I_10, cmap=\"gray\")\n",
    "ax[1][1].imshow(Ismooth_10, cmap=\"gray\")\n",
    "ax[1][2].imshow(L1_10, cmap=\"gray\")"
   ]
  },
  {
   "cell_type": "markdown",
   "metadata": {},
   "source": [
    "In the first column, we depict the corrupted images $I_{20 dB}$ and $I_{10 dB}$ without any filter application. The images of the second column are $I_{20 dB} * G$ and $I_{10 dB} * G$, respectively. The last column contains the Laplacian of smoothed image linear approximations $h*I$. For this experiment we have assumed that the standard deviation of both filter kernels is equal to $\\sigma = 1.2$."
   ]
  },
  {
   "cell_type": "code",
   "execution_count": null,
   "metadata": {},
   "outputs": [],
   "source": [
    "def morpholFilter (Is: np.ndarray) -> np.ndarray:\n",
    "    B = np.array([\n",
    "    [0,1,0],\n",
    "    [1,1,1],\n",
    "    [0,1,0]\n",
    "    ], dtype=np.uint8)\n",
    "    \n",
    "    dilated = cv2.dilate(Is, B)\n",
    "    eroded = cv2.erode(Is, B)\n",
    "    L2 = dilated + eroded - 2*Is\n",
    "    return L2"
   ]
  },
  {
   "cell_type": "code",
   "execution_count": null,
   "metadata": {},
   "outputs": [],
   "source": [
    "# instance of morphological filtering: for both PSNRs\n",
    "L2_20 = morpholFilter(Ismooth_20)\n",
    "L2_10 = morpholFilter(Ismooth_10)\n",
    "\n",
    "rcParams['figure.figsize'] = 16,10\n",
    "fig, ax = plt.subplots(2,3)\n",
    "\n",
    "ax[0][0].imshow(I_20, cmap=\"gray\")\n",
    "ax[0][1].imshow(L1_20, cmap=\"gray\")\n",
    "ax[0][2].imshow(L2_20, cmap=\"gray\")\n",
    "\n",
    "ax[1][0].imshow(I_10, cmap=\"gray\")\n",
    "ax[1][1].imshow(L1_10, cmap=\"gray\")\n",
    "ax[1][2].imshow(L2_10, cmap=\"gray\")"
   ]
  },
  {
   "cell_type": "markdown",
   "metadata": {},
   "source": [
    "The images of the first column depict the corrupted $I_{20dB}$ and $I_{10dB}$ and in the second and third columns we see the outputs $L$ of linear and morphological (non-linear) filtering, respectively.\n",
    "***\n",
    "Our next step is to find the zerocrossings of the output $L$. For this cause, we will first produce the binary sign image $X$ of $L$ and then find the outline of $X$ by calculating:\n",
    "\n",
    "$$ Y = (X \\oplus B) - (X \\ominus B) $$"
   ]
  },
  {
   "cell_type": "code",
   "execution_count": null,
   "metadata": {},
   "outputs": [],
   "source": [
    "# 1.2.3\n",
    "def zerocrossings (img: np.ndarray) -> np.ndarray:\n",
    "    # X = (img >= 0)\n",
    "    # X = X.astype(np.uint8)\n",
    "    _, X = cv2.threshold(img, 0, 1, cv2.THRESH_BINARY)\n",
    "    B = np.array([\n",
    "        [0,1,0],\n",
    "        [1,1,1],\n",
    "        [0,1,0]\n",
    "        ], dtype=np.uint8)\n",
    "    # Y = cv2.morphologyEx(X, cv2.MORPH_GRADIENT, B)\n",
    "    dilated = cv2.dilate(X,B)\n",
    "    eroded  = cv2.erode(X,B)\n",
    "    Y = dilated - eroded\n",
    "    return Y"
   ]
  },
  {
   "cell_type": "code",
   "execution_count": null,
   "metadata": {},
   "outputs": [],
   "source": [
    "# instance of calculating zerocrossings: for both PSNRs\n",
    "Y1_20 = zerocrossings(L1_20)\n",
    "Y1_10 = zerocrossings(L1_10)\n",
    "\n",
    "Y2_20 = zerocrossings(L2_20)\n",
    "Y2_10 = zerocrossings(L2_10)\n",
    "\n",
    "rcParams['figure.figsize'] = 13,13\n",
    "fig, ax = plt.subplots(2,2)\n",
    "\n",
    "ax[0][0].imshow(Y1_20, cmap=\"gray\")\n",
    "ax[0][1].imshow(Y2_20, cmap=\"gray\")\n",
    "\n",
    "ax[1][0].imshow(Y1_10, cmap=\"gray\")\n",
    "ax[1][1].imshow(Y2_10, cmap=\"gray\")"
   ]
  },
  {
   "cell_type": "markdown",
   "metadata": {},
   "source": [
    "The left images are the zerocrossings of the binary version of $L_1$ and the right images are the zerocrossings of the binary version of $L_2$.\n",
    "***\n",
    "We will now remove the zerocrossings that belong to relatively smooth regions."
   ]
  },
  {
   "cell_type": "code",
   "execution_count": null,
   "metadata": {},
   "outputs": [],
   "source": [
    "# 1.2.4\n",
    "def disposeFakeEdges (Y: np.ndarray, Is: np.ndarray, theta: float) -> np.ndarray:\n",
    "    gradIs = np.gradient(Is)\n",
    "    ddy = gradIs[0]\n",
    "    ddx = gradIs[1]\n",
    "    \n",
    "    normGradIs = np.sqrt( np.square(ddx) + np.square(ddy) )\n",
    "    maxIs = np.amax(normGradIs)\n",
    "    \n",
    "    edges = np.where((Y == 1) & (normGradIs > theta*maxIs), 1, 0)\n",
    "    return edges"
   ]
  },
  {
   "cell_type": "code",
   "execution_count": null,
   "metadata": {},
   "outputs": [],
   "source": [
    "# instance of disposing relatively smooth zerocrossings: for both PSNRs\n",
    "theta_20 = 0.17\n",
    "theta_10 = 0.25\n",
    "\n",
    "F1_20 = disposeFakeEdges(Y1_20, Ismooth_20, theta_20)\n",
    "F1_10 = disposeFakeEdges(Y1_10, Ismooth_10, theta_10)\n",
    "\n",
    "F2_20 = disposeFakeEdges(Y2_20, Ismooth_20, theta_20)\n",
    "F2_10 = disposeFakeEdges(Y2_10, Ismooth_10, theta_10)\n",
    "\n",
    "rcParams['figure.figsize'] = 13,13\n",
    "fig, ax = plt.subplots(2,2)\n",
    "\n",
    "ax[0][0].imshow(F1_20, cmap=\"gray_r\")\n",
    "ax[0][1].imshow(F2_20, cmap=\"gray_r\")\n",
    "\n",
    "ax[1][0].imshow(F1_10, cmap=\"gray_r\")\n",
    "ax[1][1].imshow(F2_10, cmap=\"gray_r\")"
   ]
  },
  {
   "cell_type": "markdown",
   "metadata": {},
   "source": [
    "The left images are the edges detected on $I_{20 dB}$ and the right images are the edges detected on $I_{10 dB}$, for $\\theta_{egde} = 0.15$ and $0.20$, respectively\n",
    "***\n",
    "We will now construct an overall function to detect edges on images."
   ]
  },
  {
   "cell_type": "code",
   "execution_count": null,
   "metadata": {},
   "outputs": [],
   "source": [
    "'''\n",
    "Usage: D = EdgeDetect(I, sigma, theta, linear)\n",
    "\n",
    "Description:\n",
    "    Returns a boolean matrix that represents \n",
    "    the edges of the input image\n",
    "\n",
    "Input:\n",
    "    I : input image\n",
    "    sigma: standard deviation of the Gaussian distribution\n",
    "    theta: threshold parameter\n",
    "    LaplaceType: defines the model of filters that will be used in the algorithm    \n",
    "\n",
    "        -- LaplaceType = 1 (Linear method - Convolution with LoG filter)\n",
    "        -- LaplaceType = 0 (Non-Linear method - Convolution with morphological filter)\n",
    "\n",
    "Output:\n",
    "    D: a 2D boolean matrix containing the detected edges\n",
    "\n",
    "'''\n",
    "def EdgeDetect (img: np.ndarray, sigma: float, theta: float, linear: bool) -> np.ndarray:\n",
    "    \n",
    "    # Gaussian and Laplacian-of-Gaussian filters\n",
    "    G, LoG = G_and_LoG(sigma)\n",
    "    Is = linearFilter(img, G)\n",
    "    \n",
    "    if linear:\n",
    "        L = linearFilter(img, LoG)\n",
    "    else:\n",
    "        L = morpholFilter(Is)\n",
    "    \n",
    "    D = zerocrossings(L)\n",
    "    D = disposeFakeEdges(D, Is, theta)\n",
    "    return D"
   ]
  },
  {
   "cell_type": "markdown",
   "metadata": {},
   "source": [
    "We will now evaluate our algorithm's efficiency by calculating the following **quality criterion**:\n",
    "\n",
    "$$ C = \\frac{Pr(D|T) + Pr(T|D)}{2} $$\n",
    "\n",
    "where:\n",
    "\n",
    "\n",
    "&emsp;&emsp; $Pr(D|T)$ is the algorithm's **precision**: the percentage of the detected edges that are _actually real_\n",
    "\n",
    "&emsp;&emsp; $Pr(T|D)$ is the algorithm's **recall**: the percentage of the real edges that were _detected_\n",
    "\n",
    "\n"
   ]
  },
  {
   "cell_type": "code",
   "execution_count": null,
   "metadata": {},
   "outputs": [],
   "source": [
    "## 1.3 Evaluation of edge detection results\n",
    "\n",
    "# 1.3.1\n",
    "def RealEdges (img: np.ndarray) -> np.ndarray:\n",
    "    B = np.array([\n",
    "        [0,1,0],\n",
    "        [1,1,1],\n",
    "        [0,1,0]\n",
    "        ], dtype=np.uint8)\n",
    "    M = cv2.morphologyEx(img, cv2.MORPH_GRADIENT, B)\n",
    "    _, T = cv2.threshold(M, 0, 1, cv2.THRESH_BINARY)\n",
    "    return T"
   ]
  },
  {
   "cell_type": "code",
   "execution_count": null,
   "metadata": {},
   "outputs": [],
   "source": [
    "# getting the real edges for our evaluation\n",
    "T = RealEdges(Io)\n",
    "rcParams['figure.figsize'] = 4,4\n",
    "plt.imshow(T,cmap='gray_r')\n",
    "plt.title('Real edges')"
   ]
  },
  {
   "cell_type": "markdown",
   "metadata": {},
   "source": [
    "The above picture represents the real edges of the input picture."
   ]
  },
  {
   "cell_type": "code",
   "execution_count": null,
   "metadata": {},
   "outputs": [],
   "source": [
    "def evaluate (D: np.ndarray, T: np.ndarray) -> float:\n",
    "    all_detected = D.sum()\n",
    "    all_real = T.sum()\n",
    "    intersection_D_T = np.array((D == T) & (D == 1))\n",
    "    intersection_D_T = intersection_D_T.astype(np.uint8)\n",
    "    detected_that_are_real = intersection_D_T.sum()\n",
    "    \n",
    "    precision = detected_that_are_real/all_detected\n",
    "    recall    = detected_that_are_real/all_real\n",
    "    \n",
    "    C = (precision + recall)/2\n",
    "    return C"
   ]
  },
  {
   "cell_type": "code",
   "execution_count": null,
   "metadata": {},
   "outputs": [],
   "source": [
    "# a typical experiment: sigma = 1.2, theta = 0.15\n",
    "D20_linear  = EdgeDetect(img=I_20, sigma=1.2, theta=0.19, linear=1)\n",
    "D20_morphol = EdgeDetect(img=I_20, sigma=1.2, theta=0.18, linear=0)\n",
    "\n",
    "D10_linear  = EdgeDetect(img=I_10, sigma=2, theta=0.25, linear=1)\n",
    "D10_morphol = EdgeDetect(img=I_10, sigma=2, theta=0.25, linear=0)\n",
    "\n",
    "T = RealEdges(img=Io)\n",
    "\n",
    "C20_linear  = round(evaluate(D20_linear, T)  * 100, 2)\n",
    "C20_morphol = round(evaluate(D20_morphol, T) * 100, 2)\n",
    "C10_linear  = round(evaluate(D10_linear, T)  * 100, 2)\n",
    "C10_morphol = round(evaluate(D10_morphol, T) * 100, 2)\n",
    "\n",
    "print('PSNR = 20 dB, Linear convolution with LoG: \\x1b[32m{0} %\\x1b[0m'.format(C20_linear))\n",
    "print('')\n",
    "print('PSNR = 20 dB, Morphological app/on of LoG: \\x1b[32m{0} %\\x1b[0m'.format(C20_morphol))\n",
    "print('')\n",
    "print('PSNR = 10 dB, Linear convolution with LoG: \\x1b[31m{0} %\\x1b[0m'.format(C10_linear))\n",
    "print('')\n",
    "print('PSNR = 10 dB, Morphological app/on of LoG: \\x1b[31m{0} %\\x1b[0m'.format(C10_morphol))"
   ]
  },
  {
   "cell_type": "code",
   "execution_count": null,
   "metadata": {},
   "outputs": [],
   "source": [
    "# Experimental Evaluation using Linear Method\n",
    "parameters_20dB = [(0.5,0.2), (0.5, 0.3), (1, 0,12), (1, 0.23), (1.2, 0.19), (1.2, 0.25), (1.5,0.2),\n",
    "               (1.5, 0.25), (1.5, 0.3), (1.6, 0.18), (2, 0.1), (2, 0.18), (2, 0.25), (2, 0.25),\n",
    "               (3, 0.15)]\n",
    "\n",
    "parameters_10dB = [(1.2, 0.2), (1.2, 0.35), (1.2, 0.4), (2, 0.2), (2, 0.25), (2, 0.3), (2, 0.4), (2.5, 0.15),\n",
    "               (2.5, 0.25), (2.5, 0.3), (3, 0.18), (3, 0.1), (4, 0.18), (4, 0.25), (4, 0.25),\n",
    "               (1, 0.15)]\n",
    "\n",
    "def compare_parameters(image, parameters, T, decibel = '20 dB', linear_mode = 1):\n",
    "    experiment = []\n",
    "    for i in range(len(parameters)):\n",
    "        experiment.append(EdgeDetect(img=image, sigma = parameters[i][0], \n",
    "                                     theta=parameters[i][1], linear = linear_mode))\n",
    "    for i in range(len(parameters)):\n",
    "        print(decibel, \" Noisy Image - Sigma = \", parameters[i][0], \n",
    "              \" Theta = \", parameters[i][1],\": C = \", round(evaluate(experiment[i],T),4))\n",
    "\n",
    "\n",
    "print ('------------- Edge Detection with Linear Method -------------\\n')\n",
    "\n",
    "compare_parameters(I_20, parameters_20dB, T, decibel = '20 dB', linear_mode = 1)\n",
    "print(\" \")\n",
    "compare_parameters(I_10, parameters_10dB, T, decibel = '10 dB', linear_mode = 1)"
   ]
  },
  {
   "cell_type": "code",
   "execution_count": null,
   "metadata": {},
   "outputs": [],
   "source": [
    "# Experimental Evaluation using Non - Linear Method\n",
    "print ('------------- Edge Detection with Morphological Filters -------------\\n')\n",
    "\n",
    "compare_parameters(I_20, parameters_20dB, T, decibel = '20 dB', linear_mode = 0)\n",
    "print(\" \")\n",
    "compare_parameters(I_10, parameters_10dB, T, decibel = '10 dB', linear_mode = 0)"
   ]
  },
  {
   "cell_type": "code",
   "execution_count": null,
   "metadata": {},
   "outputs": [],
   "source": [
    "## 1.4 Application of Edge Detection algorithm on real images\n",
    "\n",
    "# 1.4.1\n",
    "img_source = 'cv21_lab1_part1&2_material/urban_edges.jpg'\n",
    "img = np.array(cv2.imread(img_source, 1))\n",
    "RGB_img = cv2.cvtColor(img, cv2.COLOR_BGR2RGB)\n",
    "gray_img = cv2.cvtColor(img, cv2.COLOR_BGR2GRAY)\n",
    "gray_img = gray_img.astype(np.float)/gray_img.max()   # normalize to [0, 1]\n",
    "\n",
    "rcParams['figure.figsize'] = 15,15\n",
    "fig, ax = plt.subplots(1,2)\n",
    "\n",
    "ax[0].imshow(RGB_img)\n",
    "ax[1].imshow(gray_img, cmap='gray')\n",
    "\n",
    "ax[0].set_axis_off()\n",
    "ax[1].set_axis_off()\n",
    "\n",
    "ax[0].title.set_text('Original Image')\n",
    "ax[1].title.set_text('Grayscale Image')"
   ]
  },
  {
   "cell_type": "code",
   "execution_count": null,
   "metadata": {},
   "outputs": [],
   "source": [
    "# Linear Edge Detection\n",
    "edges_linear = EdgeDetect(gray_img, sigma=1.2, theta=0.15, linear=1)\n",
    "# Non Linear Edge Detection\n",
    "edges_morph = EdgeDetect(gray_img, sigma=1.2, theta=0.15, linear=0)\n",
    "\n",
    "rcParams['figure.figsize'] = 20,15\n",
    "fig, ax = plt.subplots(1,2)\n",
    "\n",
    "ax[0].imshow(edges_linear, cmap='gray')\n",
    "ax[1].imshow(edges_morph, cmap='gray')\n",
    "\n",
    "ax[0].set_axis_off()\n",
    "ax[1].set_axis_off()\n",
    "\n",
    "ax[0].title.set_text('Linear Method')\n",
    "ax[1].title.set_text('Morphological Method')\n"
   ]
  },
  {
   "cell_type": "markdown",
   "metadata": {},
   "source": [
    "At first, the **color** input picture is converted to **grayscale** and, then, inserted into our _EdgeDetect()_ algorithm to produce the right-most picture."
   ]
  },
  {
   "cell_type": "code",
   "execution_count": null,
   "metadata": {},
   "outputs": [],
   "source": [
    "# 1.4.2\n",
    "# Experimenting on different parameter values\n",
    "# Experimental Evaluation using Non - Linear Method\n",
    "sigma_vector = [0.1, 0.1, 0.2, 1, 1.5, 2]\n",
    "theta_vector = [0.15, 0.3, 0.2, 0.2, 0.3, 0.2]\n",
    "\n",
    "experiment = []\n",
    "for i in range(len(sigma_vector)):\n",
    "    experiment.append(EdgeDetect(img=gray_img, sigma = sigma_vector[i], theta=theta_vector[i], linear = False))"
   ]
  },
  {
   "cell_type": "code",
   "execution_count": null,
   "metadata": {},
   "outputs": [],
   "source": [
    "# Experimenting on theta parameter for low sigma values\n",
    "rcParams['figure.figsize'] = 20,20\n",
    "fig, ax = plt.subplots(1,3)\n",
    "\n",
    "ax[0].imshow(experiment[0], cmap='gray')\n",
    "ax[1].imshow(experiment[1], cmap='gray')\n",
    "ax[2].imshow(experiment[2], cmap='gray')\n",
    "\n",
    "ax[0].set_axis_off()\n",
    "ax[1].set_axis_off()\n",
    "ax[2].set_axis_off()\n",
    "\n",
    "ax[0].title.set_text('σ = 0.1, θ = 0.15')\n",
    "ax[1].title.set_text('σ = 0.1, θ = 0.3')\n",
    "ax[2].title.set_text('σ = 0.2, θ = 0.15')"
   ]
  },
  {
   "cell_type": "code",
   "execution_count": null,
   "metadata": {},
   "outputs": [],
   "source": [
    "# Experimenting on larger sigma values\n",
    "rcParams['figure.figsize'] = 20,20\n",
    "fig, ax = plt.subplots(1,3)\n",
    "\n",
    "ax[0].imshow(experiment[3], cmap='gray')\n",
    "ax[1].imshow(experiment[4], cmap='gray')\n",
    "ax[2].imshow(experiment[5], cmap='gray')\n",
    "\n",
    "ax[0].set_axis_off()\n",
    "ax[1].set_axis_off()\n",
    "ax[2].set_axis_off()\n",
    "\n",
    "ax[0].title.set_text('σ = 1, θ = 0.2')\n",
    "ax[1].title.set_text('σ = 1.5, θ = 0.3')\n",
    "ax[2].title.set_text('σ = 2, θ = 0.2')"
   ]
  },
  {
   "cell_type": "code",
   "execution_count": null,
   "metadata": {},
   "outputs": [],
   "source": [
    "# Best Result\n",
    "rcParams['figure.figsize'] = 10,10\n",
    "fig, ax = plt.subplots(1,1)\n",
    "\n",
    "ax.imshow(experiment[2], cmap='gray')\n",
    "ax.set_axis_off()"
   ]
  }
 ],
 "metadata": {
  "kernelspec": {
   "display_name": "Python 3",
   "language": "python",
   "name": "python3"
  },
  "language_info": {
   "codemirror_mode": {
    "name": "ipython",
    "version": 3
   },
   "file_extension": ".py",
   "mimetype": "text/x-python",
   "name": "python",
   "nbconvert_exporter": "python",
   "pygments_lexer": "ipython3",
   "version": "3.8.5"
  }
 },
 "nbformat": 4,
 "nbformat_minor": 4
}
